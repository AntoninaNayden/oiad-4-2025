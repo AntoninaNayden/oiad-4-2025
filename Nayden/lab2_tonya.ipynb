{
 "cells": [
  {
   "cell_type": "code",
   "execution_count": 12,
   "id": "20eb2d34",
   "metadata": {},
   "outputs": [],
   "source": [
    "import pandas as pd\n",
    "import numpy as np\n",
    "from scipy import stats\n",
    "import matplotlib.pyplot as plt"
   ]
  },
  {
   "cell_type": "code",
   "execution_count": 13,
   "id": "5d8da49f",
   "metadata": {},
   "outputs": [
    {
     "data": {
      "text/html": [
       "<div>\n",
       "<style scoped>\n",
       "    .dataframe tbody tr th:only-of-type {\n",
       "        vertical-align: middle;\n",
       "    }\n",
       "\n",
       "    .dataframe tbody tr th {\n",
       "        vertical-align: top;\n",
       "    }\n",
       "\n",
       "    .dataframe thead th {\n",
       "        text-align: right;\n",
       "    }\n",
       "</style>\n",
       "<table border=\"1\" class=\"dataframe\">\n",
       "  <thead>\n",
       "    <tr style=\"text-align: right;\">\n",
       "      <th></th>\n",
       "      <th>height</th>\n",
       "      <th>mass</th>\n",
       "      <th>income</th>\n",
       "      <th>iq</th>\n",
       "      <th>pages</th>\n",
       "      <th>age</th>\n",
       "      <th>bmi</th>\n",
       "      <th>work_exp</th>\n",
       "      <th>friends</th>\n",
       "      <th>test_time</th>\n",
       "    </tr>\n",
       "  </thead>\n",
       "  <tbody>\n",
       "    <tr>\n",
       "      <th>0</th>\n",
       "      <td>159</td>\n",
       "      <td>45</td>\n",
       "      <td>430</td>\n",
       "      <td>95</td>\n",
       "      <td>24</td>\n",
       "      <td>20</td>\n",
       "      <td>3.533</td>\n",
       "      <td>26</td>\n",
       "      <td>5</td>\n",
       "      <td>8.5</td>\n",
       "    </tr>\n",
       "    <tr>\n",
       "      <th>1</th>\n",
       "      <td>160</td>\n",
       "      <td>61</td>\n",
       "      <td>640</td>\n",
       "      <td>115</td>\n",
       "      <td>32</td>\n",
       "      <td>25</td>\n",
       "      <td>2.623</td>\n",
       "      <td>63</td>\n",
       "      <td>7</td>\n",
       "      <td>6.2</td>\n",
       "    </tr>\n",
       "    <tr>\n",
       "      <th>2</th>\n",
       "      <td>161</td>\n",
       "      <td>56</td>\n",
       "      <td>610</td>\n",
       "      <td>111</td>\n",
       "      <td>24</td>\n",
       "      <td>28</td>\n",
       "      <td>2.875</td>\n",
       "      <td>94</td>\n",
       "      <td>10</td>\n",
       "      <td>6.8</td>\n",
       "    </tr>\n",
       "    <tr>\n",
       "      <th>3</th>\n",
       "      <td>162</td>\n",
       "      <td>48</td>\n",
       "      <td>330</td>\n",
       "      <td>97</td>\n",
       "      <td>24</td>\n",
       "      <td>19</td>\n",
       "      <td>3.375</td>\n",
       "      <td>16</td>\n",
       "      <td>4</td>\n",
       "      <td>12.0</td>\n",
       "    </tr>\n",
       "    <tr>\n",
       "      <th>4</th>\n",
       "      <td>162</td>\n",
       "      <td>54</td>\n",
       "      <td>420</td>\n",
       "      <td>105</td>\n",
       "      <td>60</td>\n",
       "      <td>23</td>\n",
       "      <td>3.000</td>\n",
       "      <td>49</td>\n",
       "      <td>2</td>\n",
       "      <td>7.5</td>\n",
       "    </tr>\n",
       "  </tbody>\n",
       "</table>\n",
       "</div>"
      ],
      "text/plain": [
       "   height  mass  income   iq  pages  age    bmi  work_exp  friends  test_time\n",
       "0     159    45     430   95     24   20  3.533        26        5        8.5\n",
       "1     160    61     640  115     32   25  2.623        63        7        6.2\n",
       "2     161    56     610  111     24   28  2.875        94       10        6.8\n",
       "3     162    48     330   97     24   19  3.375        16        4       12.0\n",
       "4     162    54     420  105     60   23  3.000        49        2        7.5"
      ]
     },
     "execution_count": 13,
     "metadata": {},
     "output_type": "execute_result"
    }
   ],
   "source": [
    "df = pd.read_csv('../datasets/students_simple.csv')\n",
    "df.head()"
   ]
  },
  {
   "cell_type": "code",
   "execution_count": 14,
   "id": "fc812c9d",
   "metadata": {},
   "outputs": [
    {
     "data": {
      "text/html": [
       "<div>\n",
       "<style scoped>\n",
       "    .dataframe tbody tr th:only-of-type {\n",
       "        vertical-align: middle;\n",
       "    }\n",
       "\n",
       "    .dataframe tbody tr th {\n",
       "        vertical-align: top;\n",
       "    }\n",
       "\n",
       "    .dataframe thead th {\n",
       "        text-align: right;\n",
       "    }\n",
       "</style>\n",
       "<table border=\"1\" class=\"dataframe\">\n",
       "  <thead>\n",
       "    <tr style=\"text-align: right;\">\n",
       "      <th></th>\n",
       "      <th>height</th>\n",
       "      <th>age</th>\n",
       "    </tr>\n",
       "  </thead>\n",
       "  <tbody>\n",
       "    <tr>\n",
       "      <th>0</th>\n",
       "      <td>159</td>\n",
       "      <td>20</td>\n",
       "    </tr>\n",
       "    <tr>\n",
       "      <th>1</th>\n",
       "      <td>160</td>\n",
       "      <td>25</td>\n",
       "    </tr>\n",
       "    <tr>\n",
       "      <th>2</th>\n",
       "      <td>161</td>\n",
       "      <td>28</td>\n",
       "    </tr>\n",
       "    <tr>\n",
       "      <th>3</th>\n",
       "      <td>162</td>\n",
       "      <td>19</td>\n",
       "    </tr>\n",
       "    <tr>\n",
       "      <th>4</th>\n",
       "      <td>162</td>\n",
       "      <td>23</td>\n",
       "    </tr>\n",
       "  </tbody>\n",
       "</table>\n",
       "</div>"
      ],
      "text/plain": [
       "   height  age\n",
       "0     159   20\n",
       "1     160   25\n",
       "2     161   28\n",
       "3     162   19\n",
       "4     162   23"
      ]
     },
     "execution_count": 14,
     "metadata": {},
     "output_type": "execute_result"
    }
   ],
   "source": [
    "data = df.iloc[:,[0,5]]\n",
    "data.head()"
   ]
  },
  {
   "cell_type": "code",
   "execution_count": 15,
   "id": "3f1b54a1",
   "metadata": {},
   "outputs": [],
   "source": [
    "height = data['height']\n",
    "age = data['age']"
   ]
  },
  {
   "cell_type": "markdown",
   "id": "c98b0a44",
   "metadata": {},
   "source": [
    "Коррелция Фeхнера (не требует нормальности данных) - это простая непараметрическая корреляция на основе знаков отклонений от медианы.Коэффициент корреляции Фехнера — это показатель, который измеряет степень согласованности НАПРАВЛЕНИЙ отклонений значений двух величин от их средних значений. <br>"
   ]
  },
  {
   "cell_type": "code",
   "execution_count": 16,
   "id": "b0e477df",
   "metadata": {},
   "outputs": [
    {
     "name": "stdout",
     "output_type": "stream",
     "text": [
      "Корреляция Фехнера: 0.111\n"
     ]
    }
   ],
   "source": [
    "med_x = np.median(height)\n",
    "med_y = np.median(age)\n",
    "sign_x = np.sign(height - med_x)\n",
    "sign_y = np.sign(age - med_y)\n",
    "non_zero = (sign_x != 0) & (sign_y != 0)\n",
    "agreed = np.sum(sign_x[non_zero] == sign_y[non_zero]) \n",
    "disagreed = np.sum(sign_x[non_zero] != sign_y[non_zero])  \n",
    "fechner = (agreed - disagreed) / (agreed + disagreed) if (agreed + disagreed) > 0 else 0\n",
    "print(f\"Корреляция Фехнера: {fechner:.3f}\")"
   ]
  },
  {
   "cell_type": "markdown",
   "id": "b1a468fa",
   "metadata": {},
   "source": [
    "Корреляция близка к 0 => низкая степень согласованности направлений "
   ]
  },
  {
   "cell_type": "markdown",
   "id": "56a2f433",
   "metadata": {},
   "source": [
    "Корреляция Пирсона (r) измеряет линейную связь между двумя непрерывными числовыми переменными. Она показывает, насколько изменения в одной переменной (height) предсказуемо связаны с изменениями в другой (age) по прямой линии. Значение от -1 (идеальная отрицательная связь) до +1 (идеальная положительная). 0 — нет связи."
   ]
  },
  {
   "cell_type": "code",
   "execution_count": 17,
   "id": "3c8b163e",
   "metadata": {},
   "outputs": [
    {
     "name": "stdout",
     "output_type": "stream",
     "text": [
      "Корреляция Пирсона: 0.19437455140867987\n",
      "P-value: 0.4115474738488907\n"
     ]
    }
   ],
   "source": [
    "r, p = stats.pearsonr(height, age)\n",
    "print(\"Корреляция Пирсона:\", r)\n",
    "print(\"P-value:\", p)"
   ]
  },
  {
   "cell_type": "markdown",
   "id": "79949533",
   "metadata": {},
   "source": [
    "Корреляция Пирсона чуть больше, чем корреляция Фехнера, однако она всё равно слишком маола, чтобы говорить о какой-либо линейной зависимости. P-value > 0.05 => связь между признаками скорее всего случайна. (p-value - это вероятность допустить ошбку первого рода, вероятность, что связь между признаками случайна)"
   ]
  },
  {
   "cell_type": "markdown",
   "id": "e78b487e",
   "metadata": {},
   "source": [
    "z-трансформация Фишера (Fisher's z-transformation) — это математический метод, который преобразует коэффициент корреляции Пирсона (r) в переменную z, имеющую нормальное распределение. Она используется в статистике, чтобы упростить анализ корреляций, особенно при вычислении доверительных интервалов или сравнении корреляций."
   ]
  },
  {
   "cell_type": "markdown",
   "id": "ed285f27",
   "metadata": {},
   "source": [
    "Подсчёт доверительного интервала"
   ]
  },
  {
   "cell_type": "code",
   "execution_count": 18,
   "id": "f7188c42",
   "metadata": {},
   "outputs": [
    {
     "name": "stdout",
     "output_type": "stream",
     "text": [
      "z-трансформация: 0.1969\n",
      "Стандартная ошибка z: 0.2425\n",
      "95% ДИ в z-пространстве: [-0.2785, 0.6722]\n",
      "95% ДИ для r: [-0.2715, 0.5865]\n"
     ]
    }
   ],
   "source": [
    "z = np.arctanh(r)\n",
    "n = len(height)\n",
    "se_z = 1 / np.sqrt(n - 3)\n",
    "z_critical = 1.96\n",
    "ci_lower_z = z - z_critical * se_z \n",
    "ci_upper_z = z + z_critical * se_z  \n",
    "ci_lower_r = np.tanh(ci_lower_z)  \n",
    "ci_upper_r = np.tanh(ci_upper_z) \n",
    "print(f\"z-трансформация: {z:.4f}\")\n",
    "print(f\"Стандартная ошибка z: {se_z:.4f}\")\n",
    "print(f\"95% ДИ в z-пространстве: [{ci_lower_z:.4f}, {ci_upper_z:.4f}]\")\n",
    "print(f\"95% ДИ для r: [{ci_lower_r:.4f}, {ci_upper_r:.4f}]\")"
   ]
  },
  {
   "cell_type": "markdown",
   "id": "ce879e3b",
   "metadata": {},
   "source": [
    "Интервал показывает диапазон истинного r с вероятность 95%. "
   ]
  },
  {
   "cell_type": "markdown",
   "id": "d7583f4f",
   "metadata": {},
   "source": [
    "диапазон включает 0 => корреляция может быть нулевой"
   ]
  },
  {
   "cell_type": "markdown",
   "id": "afa2f95c",
   "metadata": {},
   "source": [
    "Корреляция спирмена . Непараметрическая версия Пирсона, но на рангах (порядковых номерах). Измеряет монотонную связь"
   ]
  },
  {
   "cell_type": "code",
   "execution_count": 19,
   "id": "7255e264",
   "metadata": {},
   "outputs": [
    {
     "name": "stdout",
     "output_type": "stream",
     "text": [
      "Корреляция Спирмена: 0.175, p-value: 0.460\n"
     ]
    }
   ],
   "source": [
    "spearman_r, spearman_p = stats.spearmanr(height, age)\n",
    "print(f\"Корреляция Спирмена: {spearman_r:.3f}, p-value: {spearman_p:.3f}\")"
   ]
  },
  {
   "cell_type": "markdown",
   "id": "93a802d6",
   "metadata": {},
   "source": [
    "Ситуация аналогичная с корриляцией Пирсона"
   ]
  },
  {
   "cell_type": "markdown",
   "id": "c2d2b3a1",
   "metadata": {},
   "source": [
    "Корреляция Кенделла. Ещё одна непараметрическая на рангах, но фокусируется на парах: сколько пар согласуются/несогласуются в порядке."
   ]
  },
  {
   "cell_type": "code",
   "execution_count": 20,
   "id": "5eb29881",
   "metadata": {},
   "outputs": [
    {
     "name": "stdout",
     "output_type": "stream",
     "text": [
      "Корреляция Кенделла: 0.122, p-value: 0.470\n"
     ]
    }
   ],
   "source": [
    "kendall_r, kendall_p = stats.kendalltau(height, age)\n",
    "print(f\"Корреляция Кенделла: {kendall_r:.3f}, p-value: {kendall_p:.3f}\")"
   ]
  },
  {
   "cell_type": "markdown",
   "id": "a99754ab",
   "metadata": {},
   "source": [
    "Ситуация аналогичная с корриляцией Пирсона"
   ]
  },
  {
   "cell_type": "markdown",
   "id": "ecebd8d2",
   "metadata": {},
   "source": [
    "Гистограммы"
   ]
  },
  {
   "cell_type": "code",
   "execution_count": 32,
   "id": "642ed3ca",
   "metadata": {},
   "outputs": [
    {
     "data": {
      "image/png": "[encoded data removed]",
      "text/plain": [
       "<Figure size 640x480 with 1 Axes>"
      ]
     },
     "metadata": {},
     "output_type": "display_data"
    }
   ],
   "source": [
    "plt.hist(df['height'], bins=5, alpha=0.5, label='height')\n",
    "plt.hist(df['age'], bins=5, alpha=0.5, label='age')\n",
    "plt.legend()\n",
    "plt.title(\"Гистограмма двух столбцов\")\n",
    "plt.show()"
   ]
  },
  {
   "cell_type": "markdown",
   "id": "4741ae06",
   "metadata": {},
   "source": [
    "График рассеяния"
   ]
  },
  {
   "cell_type": "code",
   "execution_count": 23,
   "id": "a1f63bf9",
   "metadata": {},
   "outputs": [
    {
     "data": {
      "image/png": "[encoded data removed]",
      "text/plain": [
       "<Figure size 640x480 with 1 Axes>"
      ]
     },
     "metadata": {},
     "output_type": "display_data"
    }
   ],
   "source": [
    "plt.scatter(df['height'], df['age'], color='blue', alpha=0.7)\n",
    "plt.title('График рассеяния: Height vs Age')\n",
    "plt.xlabel('Height')\n",
    "plt.ylabel('Age')\n",
    "plt.grid(True)\n",
    "plt.show()"
   ]
  },
  {
   "cell_type": "markdown",
   "id": "8f071fc0",
   "metadata": {},
   "source": [
    "Явной зависимости между признаками точно нет"
   ]
  },
  {
   "cell_type": "code",
   "execution_count": 24,
   "id": "19234050",
   "metadata": {},
   "outputs": [],
   "source": [
    "x = df['iq'].values\n",
    "y = df['height'].values"
   ]
  },
  {
   "cell_type": "markdown",
   "id": "87f3363a",
   "metadata": {},
   "source": [
    "Линейная регрессия <br>\n",
    "y=w1​x+w0 <br>\n",
    "w1​=∑(x−xˉ)2∑(x−xˉ)(y−yˉ​)<br>\n",
    "w0​=yˉ​−w1​xˉ"
   ]
  },
  {
   "cell_type": "code",
   "execution_count": 25,
   "id": "62354485",
   "metadata": {},
   "outputs": [],
   "source": [
    "x_mean = np.mean(x)\n",
    "y_mean = np.mean(y)\n",
    "\n",
    "w1_lin = np.sum((x - x_mean)*(y - y_mean)) / np.sum((x - x_mean)**2)\n",
    "w0_lin = y_mean - w1_lin * x_mean\n",
    "\n",
    "y_pred_lin = w1_lin * x + w0_lin"
   ]
  },
  {
   "cell_type": "markdown",
   "id": "7a3d07fc",
   "metadata": {},
   "source": [
    "Квадратичная регрессия<br>\n",
    "y=w2​x2+w1​x+w0 можно найти коэф через слау"
   ]
  },
  {
   "cell_type": "code",
   "execution_count": 26,
   "id": "ad8aa221",
   "metadata": {},
   "outputs": [],
   "source": [
    "X_quad = np.vstack([x**2, x, np.ones_like(x)]).T\n",
    "w_quad = np.linalg.lstsq(X_quad, y, rcond=None)[0]  # [w2, w1, w0]\n",
    "\n",
    "y_pred_quad = w_quad[0]*x**2 + w_quad[1]*x + w_quad[2]"
   ]
  },
  {
   "cell_type": "markdown",
   "id": "2d9bcaf8",
   "metadata": {},
   "source": [
    "Гиперболическая регрессия <br>\n",
    "y=w1/x​​+w0 "
   ]
  },
  {
   "cell_type": "code",
   "execution_count": 27,
   "id": "f61c2897",
   "metadata": {},
   "outputs": [],
   "source": [
    "X_hyp = np.vstack([1/x, np.ones_like(x)]).T\n",
    "w_hyp = np.linalg.lstsq(X_hyp, y, rcond=None)[0]  # [w1, w0]\n",
    "\n",
    "y_pred_hyp = w_hyp[0]/x + w_hyp[1]"
   ]
  },
  {
   "cell_type": "markdown",
   "id": "fae8d27c",
   "metadata": {},
   "source": [
    "Показательная регрессия <br>\n",
    "ln(y)=ln(w1​)+w0​x"
   ]
  },
  {
   "cell_type": "code",
   "execution_count": 28,
   "id": "4d104bd2",
   "metadata": {},
   "outputs": [],
   "source": [
    "y_pos = y[y > 0]\n",
    "x_pos = x[y > 0]\n",
    "\n",
    "ln_y = np.log(y_pos)\n",
    "X_exp = np.vstack([x_pos, np.ones_like(x_pos)]).T\n",
    "w_exp = np.linalg.lstsq(X_exp, ln_y, rcond=None)[0]  # [w0, ln(w1)]\n",
    "\n",
    "w0_exp = w_exp[0]\n",
    "w1_exp = np.exp(w_exp[1])\n",
    "\n",
    "y_pred_exp = w1_exp * np.exp(w0_exp * x_pos)"
   ]
  },
  {
   "cell_type": "markdown",
   "id": "a333e358",
   "metadata": {},
   "source": [
    "Графики"
   ]
  },
  {
   "cell_type": "code",
   "execution_count": 33,
   "id": "30a91431",
   "metadata": {},
   "outputs": [
    {
     "data": {
      "image/png": "[encoded data removed]",
      "text/plain": [
       "<Figure size 1000x600 with 1 Axes>"
      ]
     },
     "metadata": {},
     "output_type": "display_data"
    }
   ],
   "source": [
    "plt.figure(figsize=(10,6))\n",
    "plt.scatter(x, y, color='black', label='Данные', alpha=0.7)\n",
    "\n",
    "# Линейная\n",
    "plt.plot(x, y_pred_lin, color='blue', label='Линейная')\n",
    "\n",
    "# Квадратичная\n",
    "plt.plot(x, y_pred_quad, color='green', label='Квадратичная')\n",
    "\n",
    "# Гиперболическая\n",
    "plt.plot(x, y_pred_hyp, color='red', label='Гиперболическая')\n",
    "\n",
    "# Показательная\n",
    "plt.plot(x_pos, y_pred_exp, color='purple', label='Показательная')\n",
    "\n",
    "plt.xlabel('Height')\n",
    "plt.ylabel('Age')\n",
    "plt.title('Сравнение регрессионных моделей')\n",
    "plt.legend()\n",
    "plt.grid(True)\n",
    "plt.show()\n"
   ]
  },
  {
   "cell_type": "markdown",
   "id": "2d8a289c",
   "metadata": {},
   "source": [
    "всё плохо"
   ]
  },
  {
   "cell_type": "markdown",
   "id": "c81d563b",
   "metadata": {},
   "source": [
    "MSE показывает, насколько в среднем предсказания модели отклоняются от реальных значений. ошибка возводится в квадрат"
   ]
  },
  {
   "cell_type": "code",
   "execution_count": 31,
   "id": "a67ccd76",
   "metadata": {},
   "outputs": [
    {
     "name": "stdout",
     "output_type": "stream",
     "text": [
      "Линейная: 64.636\n",
      "Квадратичная: 64.206\n",
      "Гиперболическая: 64.337\n",
      "Показательная: 64.696\n"
     ]
    }
   ],
   "source": [
    "def mse(y_true, y_pred):\n",
    "    return np.mean((y_true - y_pred)**2)\n",
    "\n",
    "mse_lin  = mse(y, y_pred_lin)\n",
    "mse_quad = mse(y, y_pred_quad)\n",
    "mse_hyp  = mse(y, y_pred_hyp)\n",
    "mse_exp  = mse(y_pos, y_pred_exp)  # только для положительных y\n",
    "\n",
    "print(f\"Линейная: {mse_lin:.3f}\")\n",
    "print(f\"Квадратичная: {mse_quad:.3f}\")\n",
    "print(f\"Гиперболическая: {mse_hyp:.3f}\")\n",
    "print(f\"Показательная: {mse_exp:.3f}\")"
   ]
  },
  {
   "cell_type": "markdown",
   "id": "9ff54c4f",
   "metadata": {},
   "source": [
    "Они все одинаково плохие)"
   ]
  },
  {
   "cell_type": "code",
   "execution_count": 34,
   "id": "ac1c4142",
   "metadata": {},
   "outputs": [
    {
     "name": "stdout",
     "output_type": "stream",
     "text": [
      "Квадратичная модель: F = 0.771, p = 0.4782\n",
      "Показательная модель: F = 1.468, p = 0.2414\n",
      "\n",
      "Интерпретация:\n",
      "Квадратичная модель — незначима\n",
      "Показательная модель — незначима\n"
     ]
    }
   ],
   "source": [
    "def f_test(y_true, y_pred, k):\n",
    "    n = len(y_true)\n",
    "    y_mean = np.mean(y_true)\n",
    "    SSR = np.sum((y_pred - y_mean)**2)  # объяснённая сумма квадратов\n",
    "    SSE = np.sum((y_true - y_pred)**2)  # остаточная сумма квадратов\n",
    "    SST = np.sum((y_true - y_mean)**2)  # полная сумма квадратов\n",
    "    \n",
    "    MSR = SSR / k                      # средняя объяснённая\n",
    "    MSE = SSE / (n - k - 1)            # средняя остаточная\n",
    "    F = MSR / MSE                      # F-статистика\n",
    "    p_value = stats.f.sf(F, k, n - k - 1)  # p-value\n",
    "\n",
    "    return F, p_value, SSR, SSE, SST\n",
    "\n",
    "F_quad, p_quad, SSR_quad, SSE_quad, SST_quad = f_test(y, y_pred_quad, k=2)\n",
    "\n",
    "F_exp, p_exp, SSR_exp, SSE_exp, SST_exp = f_test(y_pos, y_pred_exp, k=1)\n",
    "\n",
    "print(f\"Квадратичная модель: F = {F_quad:.3f}, p = {p_quad:.4f}\")\n",
    "print(f\"Показательная модель: F = {F_exp:.3f}, p = {p_exp:.4f}\")\n",
    "\n",
    "alpha = 0.05\n",
    "print(\"\\nИнтерпретация:\")\n",
    "print(\"Квадратичная модель — значима\" if p_quad < alpha else \"Квадратичная модель — незначима\")\n",
    "print(\"Показательная модель — значима\" if p_exp < alpha else \"Показательная модель — незначима\")"
   ]
  }
 ],
 "metadata": {
  "kernelspec": {
   "display_name": "venv",
   "language": "python",
   "name": "python3"
  },
  "language_info": {
   "codemirror_mode": {
    "name": "ipython",
    "version": 3
   },
   "file_extension": ".py",
   "mimetype": "text/x-python",
   "name": "python",
   "nbconvert_exporter": "python",
   "pygments_lexer": "ipython3",
   "version": "3.12.10"
  }
 },
 "nbformat": 4,
 "nbformat_minor": 5
}
